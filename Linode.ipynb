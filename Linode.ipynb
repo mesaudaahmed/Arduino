{
  "cells": [
    {
      "cell_type": "markdown",
      "metadata": {
        "id": "view-in-github",
        "colab_type": "text"
      },
      "source": [
        "<a href=\"https://colab.research.google.com/github/mesaudaahmed/Arduino/blob/master/Linode.ipynb\" target=\"_parent\"><img src=\"https://colab.research.google.com/assets/colab-badge.svg\" alt=\"Open In Colab\"/></a>"
      ]
    },
    {
      "cell_type": "code",
      "execution_count": null,
      "metadata": {
        "id": "HrBUmSbFf80f"
      },
      "outputs": [],
      "source": [
        "pip install apache-libcloud"
      ]
    },
    {
      "cell_type": "code",
      "execution_count": null,
      "metadata": {
        "id": "X_W3Tht4Ed_M",
        "collapsed": true,
        "colab": {
          "base_uri": "https://localhost:8080/"
        },
        "outputId": "00878176-dd6a-473f-c01e-8becde46bc0f"
      },
      "outputs": [
        {
          "output_type": "stream",
          "name": "stdout",
          "text": [
            "Collecting linode_api4\n",
            "  Downloading linode_api4-5.26.0-py3-none-any.whl.metadata (8.6 kB)\n",
            "Requirement already satisfied: requests in /usr/local/lib/python3.11/dist-packages (from linode_api4) (2.32.3)\n",
            "Collecting polling (from linode_api4)\n",
            "  Downloading polling-0.3.2.tar.gz (5.2 kB)\n",
            "  Preparing metadata (setup.py) ... \u001b[?25l\u001b[?25hdone\n",
            "Requirement already satisfied: deprecated in /usr/local/lib/python3.11/dist-packages (from linode_api4) (1.2.18)\n",
            "Requirement already satisfied: wrapt<2,>=1.10 in /usr/local/lib/python3.11/dist-packages (from deprecated->linode_api4) (1.17.2)\n",
            "Requirement already satisfied: charset-normalizer<4,>=2 in /usr/local/lib/python3.11/dist-packages (from requests->linode_api4) (3.4.1)\n",
            "Requirement already satisfied: idna<4,>=2.5 in /usr/local/lib/python3.11/dist-packages (from requests->linode_api4) (3.10)\n",
            "Requirement already satisfied: urllib3<3,>=1.21.1 in /usr/local/lib/python3.11/dist-packages (from requests->linode_api4) (2.3.0)\n",
            "Requirement already satisfied: certifi>=2017.4.17 in /usr/local/lib/python3.11/dist-packages (from requests->linode_api4) (2024.12.14)\n",
            "Downloading linode_api4-5.26.0-py3-none-any.whl (122 kB)\n",
            "\u001b[2K   \u001b[90m━━━━━━━━━━━━━━━━━━━━━━━━━━━━━━━━━━━━━━━━\u001b[0m \u001b[32m122.2/122.2 kB\u001b[0m \u001b[31m2.8 MB/s\u001b[0m eta \u001b[36m0:00:00\u001b[0m\n",
            "\u001b[?25hBuilding wheels for collected packages: polling\n",
            "  Building wheel for polling (setup.py) ... \u001b[?25l\u001b[?25hdone\n",
            "  Created wheel for polling: filename=polling-0.3.2-py3-none-any.whl size=4123 sha256=5e12ab9c98e2adbe929c46fbef1fa14a691ed4a647d874413c203496334257ac\n",
            "  Stored in directory: /root/.cache/pip/wheels/92/b9/62/cedeba300a4e1a41f7f707add2bbfda8c0dea1f682fed11ab1\n",
            "Successfully built polling\n",
            "Installing collected packages: polling, linode_api4\n",
            "Successfully installed linode_api4-5.26.0 polling-0.3.2\n"
          ]
        }
      ],
      "source": [
        "pip install linode_api4"
      ]
    },
    {
      "cell_type": "code",
      "execution_count": null,
      "metadata": {
        "id": "tWMqDPw0gNkJ",
        "colab": {
          "base_uri": "https://localhost:8080/"
        },
        "outputId": "2c4d79d4-8ed8-4348-ffed-212b13b285cb"
      },
      "outputs": [
        {
          "output_type": "stream",
          "name": "stdout",
          "text": [
            "172.232.219.65\n",
            "172.232.219.70\n",
            "172.232.219.76\n",
            "172.232.219.94\n",
            "172.232.219.107\n",
            "172.232.219.109\n",
            "172.232.219.130\n",
            "172.232.219.131\n",
            "172.232.219.134\n",
            "172.232.219.135\n"
          ]
        }
      ],
      "source": [
        "from libcloud.compute.drivers.linode import LinodeNodeDriverV4,NodeAuthPassword,NodeLocation,NodeDriver,NodeSize\n",
        "from linode_api4 import LinodeClient\n",
        "token=\"92b95999984f2607165ce5953bcfd78184eae8b20bb0faaf76d897164050d992\"\n",
        "\n",
        "node=LinodeNodeDriverV4(token)\n",
        "diver=NodeDriver(token)\n",
        "data=node.list_nodes()\n",
        "listnodes=node.list_nodes()\n",
        "listlocations=node.list_locations()\n",
        "listsizes=node.list_sizes()\n",
        "listimage=node.list_images()\n",
        "listaddress=node.ex_list_addresses()\n",
        "def showip():\n",
        "    for node in listnodes:\n",
        "      print(node.public_ips[0])\n",
        "showip()"
      ]
    },
    {
      "cell_type": "code",
      "execution_count": null,
      "metadata": {
        "id": "ekor1IjJgmza",
        "colab": {
          "base_uri": "https://localhost:8080/"
        },
        "outputId": "04afd69a-4012-4970-f540-7e50e6897013"
      },
      "outputs": [
        {
          "output_type": "stream",
          "name": "stdout",
          "text": [
            "172.236.62.148\n",
            "172.236.62.234\n",
            "172.236.62.242\n",
            "172.236.51.91\n",
            "172.236.51.106\n",
            "172.236.51.153\n",
            "172.236.51.154\n",
            "172.236.51.155\n",
            "172.236.51.156\n",
            "172.236.51.158\n"
          ]
        }
      ],
      "source": [
        "def createNode(number:int,reg:int):\n",
        "    \"\"\"\n",
        "    number: type = int > numbers of nodes want to be created\n",
        "    regions :          0\t- ap-west\n",
        "                       1\t- ca-central\n",
        "                       2\t- ap-southeast\n",
        "                       3\t- us-iad\n",
        "                       4\t- us-ord\n",
        "                       5\t- fr-par\n",
        "                       6\t- us-sea\n",
        "                       7\t- br-gru\n",
        "                       8\t- nl-ams\n",
        "                       9\t- se-sto\n",
        "                       10\t- es-mad\n",
        "                       11\t- in-maa\n",
        "                       12\t- jp-osa\n",
        "                       13\t- it-mil\n",
        "                       14\t- us-mia\n",
        "                       15\t- id-cgk\n",
        "                       16\t- us-lax\n",
        "                       17\t- gb-lon\n",
        "                       18\t- au-mel\n",
        "                       19\t- in-bom-2\n",
        "                       20\t- de-fra-2\n",
        "                       21\t- sg-sin-2\n",
        "                       22\t- jp-tyo-3\n",
        "                       23\t- us-central\n",
        "                       24\t- us-west\n",
        "                       25\t- us-southeast\n",
        "                       26\t- us-east\n",
        "                       27\t- eu-west\n",
        "                       28\t- ap-south\n",
        "                       29\t- eu-central\n",
        "                       30\t- ap-northeast\n",
        "    \"\"\"\n",
        "    \"\"\"    for the size\n",
        "               g6-nanode-1: 1Gb RAM\n",
        "               g6-standard-1: 2Gb RAM\n",
        "               g6-standard-2  4Gb RAM\n",
        "    \"\"\"\n",
        "    client = LinodeClient(token)\n",
        "    my_linodes = client.linode.instances()\n",
        "    available_regions = client.regions()\n",
        "\n",
        "    if reg<0 or reg>=len(available_regions):\n",
        "      selected_regions=available_regions[0]\n",
        "    else:\n",
        "      selected_regions=available_regions[reg]\n",
        "    # for ran in available_regions:\n",
        "    #     print(ran)\n",
        "    for current_linode in my_linodes:\n",
        "        print(current_linode.label)\n",
        "    for node in range(number):\n",
        "      try:\n",
        "        new_linode = client.linode.instance_create(\"g6-standard-1\",selected_regions,image='linode/almalinux9',root_pass=\"Apolo2020@2020\")\n",
        "      except Exception as e:\n",
        "        print(\"err with creating nodes\",e)\n",
        "    node=LinodeNodeDriverV4(token)\n",
        "    listnodes=node.list_nodes()\n",
        "    for node in listnodes:\n",
        "      print(node.public_ips[0])\n",
        "# createNode(\"number of nodes want to create\", \"geo\")\n",
        "createNode(10,18)"
      ]
    },
    {
      "cell_type": "code",
      "execution_count": null,
      "metadata": {
        "id": "JRan0CQ4cLbi",
        "colab": {
          "base_uri": "https://localhost:8080/"
        },
        "outputId": "b8b34900-4612-49e9-d965-8b3e39288cb4"
      },
      "outputs": [
        {
          "output_type": "stream",
          "name": "stdout",
          "text": [
            "172.232.207.41 deleted\n",
            "172.232.207.76 deleted\n",
            "172.232.207.130 deleted\n",
            "172.232.207.209 deleted\n"
          ]
        }
      ],
      "source": [
        "def deletSomeinstances(ip):\n",
        "  for nod in listnodes:\n",
        "    if nod.public_ips[0] in ip:\n",
        "      node.destroy_node(nod)\n",
        "      print(nod.public_ips[0],\"deleted\")\n",
        "deletSomeinstances([\"172.232.207.41\",\"172.232.207.76\",\"172.232.207.130\",\"172.232.207.209\",\"172.232.207.223\",\"172.232.207.6\",\"172.232.207.112\"])"
      ]
    },
    {
      "cell_type": "code",
      "execution_count": null,
      "metadata": {
        "id": "oX0y7YmxW7xa"
      },
      "outputs": [],
      "source": [
        "def resizeNode(ip:str,size:int):\n",
        "  \"\"\"\n",
        "  ip : str => target ip to resize\n",
        "  size :\n",
        "       current size is 0: id=g6-nanode-1, name=Nanode 1GB, ram=1024 disk=25600 bandwidth=1000 price=0.0075\n",
        "       1: id=g6-standard-1, name=Linode 2GB, ram=2048 disk=51200 bandwidth=2000 price=0.018\n",
        "       2: id=g6-standard-2, name=Linode 4GB, ram=4096 disk=81920 bandwidth=4000 price=0.036\n",
        "       3: id=g6-standard-4, name=Linode 8GB, ram=8192 disk=163840 bandwidth=5000 price=0.072\n",
        "       4: id=g6-standard-6, name=Linode 16GB, ram=16384 disk=327680 bandwidth=6000 price=0.144\n",
        "       5: id=g6-standard-8, name=Linode 32GB, ram=32768 disk=655360 bandwidth=7000 price=0.288\n",
        "       6: id=g6-standard-16, name=Linode 64GB, ram=65536 disk=1310720 bandwidth=9000 price=0.576\n",
        "       7: id=g6-standard-20, name=Linode 96GB, ram=98304 disk=1966080 bandwidth=10000 price=0.864\n",
        "       8: id=g6-standard-24, name=Linode 128GB, ram=131072 disk=2621440 bandwidth=11000 price=1.152\n",
        "       9: id=g6-standard-32, name=Linode 192GB, ram=196608 disk=3932160 bandwidth=12000 price=1.728\n",
        "       < ... >\n",
        "  \"\"\"\n",
        "  size=listsizes[size]\n",
        "  for look in listnodes:\n",
        "      if str(look.public_ips[0]) in ip:\n",
        "          node.ex_resize_node(look,size)\n",
        "          print(look.public_ips[0],\"resize successfully\")\n",
        "resizeNode([\"172.234.17.224\",\"172.234.17.197\",\"172.234.17.82\",\"172.234.17.38\",\"172.234.17.12\",\"172.232.24.231\",\"172.233.223.146\",\"172.233.223.194\"],2)"
      ]
    },
    {
      "cell_type": "code",
      "source": [
        "# Replace with your Linode's IP address and desired hostname\n",
        "ip_address = \"172.232.218.100\"  # Replace with your Linode's IP\n",
        "hostname = \"ziko1.huuuuund.sa.com\"  # Replace with your desired PTR\n",
        "client=LinodeClient(token)\n",
        "try:\n",
        "    # Set PTR record\n",
        "    client.networking.update_reverse_dns(ip_address, hostname)\n",
        "    print(f\"PTR record set for {ip_address} -> {hostname}\")\n",
        "except Exception as e:\n",
        "    print(f\"Error setting PTR record: {e}\")"
      ],
      "metadata": {
        "id": "pwA3mk377SAB",
        "colab": {
          "base_uri": "https://localhost:8080/"
        },
        "outputId": "805c9f4d-594e-4450-f55d-ceb704ee13f0"
      },
      "execution_count": null,
      "outputs": [
        {
          "output_type": "stream",
          "name": "stdout",
          "text": [
            "Error setting PTR record: 'NetworkingGroup' object has no attribute 'update_reverse_dns'\n"
          ]
        }
      ]
    },
    {
      "cell_type": "code",
      "source": [],
      "metadata": {
        "id": "BX8sleORiesz"
      },
      "execution_count": null,
      "outputs": []
    },
    {
      "cell_type": "code",
      "source": [
        "def resizeAllinstances(size:int):\n",
        "  size=listsizes[size]\n",
        "  for nod in listnodes:\n",
        "    node.ex_resize_node(nod,size)\n",
        "    print(nod.public_ips[0],\"resized \")\n",
        "resizeAllinstances(2)"
      ],
      "metadata": {
        "id": "uqWp3rZmBbkW"
      },
      "execution_count": null,
      "outputs": []
    },
    {
      "cell_type": "code",
      "execution_count": null,
      "metadata": {
        "id": "i0l62TKMnpD4"
      },
      "outputs": [],
      "source": [
        "from libcloud.compute.drivers.linode import LinodeNodeDriverV4\n",
        "from linode_api4 import LinodeClient\n",
        "\n",
        "# API token (securely retrieve this in a real application)\n",
        "TOKEN = \"92b95999984f2607165ce5953bcfd78184eae8b20bb0faaf76d897164050d992\"\n",
        "\n",
        "# Initialize clients\n",
        "client = LinodeClient(TOKEN)\n",
        "node_driver = LinodeNodeDriverV4(TOKEN)\n",
        "\n",
        "# List available nodes and other resources\n",
        "def show_resources():\n",
        "    try:\n",
        "        # List nodes\n",
        "        list_nodes = node_driver.list_nodes()\n",
        "        print(\"Nodes:\")\n",
        "        for node in list_nodes:\n",
        "            print(f\"- Name: {node.name}, Public IP: {node.public_ips}\")\n",
        "\n",
        "        # List locations\n",
        "        list_locations = node_driver.list_locations()\n",
        "        print(\"\\nLocations:\")\n",
        "        for location in list_locations:\n",
        "            print(f\"- {location}\")\n",
        "\n",
        "        # List sizes\n",
        "        list_sizes = node_driver.list_sizes()\n",
        "        print(\"\\nSizes:\")\n",
        "        for size in list_sizes:\n",
        "            print(f\"- {size.name}, RAM: {size.ram}, Disk: {size.disk}, Price: {size.price}\")\n",
        "\n",
        "        # List images\n",
        "        list_images = node_driver.list_images()\n",
        "        print(\"\\nImages:\")\n",
        "        for image in list_images:\n",
        "            print(f\"- {image.name}, ID: {image.id}\")\n",
        "\n",
        "        # Regions using linode_api4\n",
        "        available_regions = client.regions()\n",
        "        print(\"\\nAvailable Regions:\")\n",
        "        for region in available_regions:\n",
        "            print(f\"- {region.id}\")\n",
        "\n",
        "    except Exception as e:\n",
        "        print(f\"Error: {e}\")\n",
        "\n",
        "# Call the function to display resources\n",
        "show_resources()\n"
      ]
    },
    {
      "cell_type": "code",
      "execution_count": null,
      "metadata": {
        "id": "yOq0lbAI0K9M",
        "colab": {
          "base_uri": "https://localhost:8080/"
        },
        "outputId": "d1d43e72-f762-43df-b979-038dd3d461e4"
      },
      "outputs": [
        {
          "output_type": "stream",
          "name": "stdout",
          "text": [
            "172.232.219.65 deleted \n",
            "172.232.219.70 deleted \n",
            "172.232.219.76 deleted \n",
            "172.232.219.94 deleted \n",
            "172.232.219.107 deleted \n",
            "172.232.219.109 deleted \n",
            "172.232.219.130 deleted \n",
            "172.232.219.131 deleted \n",
            "172.232.219.134 deleted \n",
            "172.232.219.135 deleted \n"
          ]
        }
      ],
      "source": [
        "def deletAllinstances():\n",
        "  for nod in listnodes:\n",
        "    node.destroy_node(nod)\n",
        "    print(nod.public_ips[0],\"deleted \")\n",
        "deletAllinstances()\n"
      ]
    },
    {
      "cell_type": "code",
      "source": [
        "def powerOFF():\n",
        "  for nod in listnodes:\n",
        "    node.stop_node(nod)\n",
        "    print(nod.public_ips[0],\"power OFF \")\n",
        "powerOFF()"
      ],
      "metadata": {
        "id": "dum1IvsElHUK",
        "colab": {
          "base_uri": "https://localhost:8080/"
        },
        "outputId": "a01bdc80-e988-4679-afd2-b4816269e9ce"
      },
      "execution_count": null,
      "outputs": [
        {
          "output_type": "stream",
          "name": "stdout",
          "text": [
            "172.233.120.150 power OFF \n",
            "172.233.120.160 power OFF \n",
            "172.233.120.208 power OFF \n",
            "172.233.120.216 power OFF \n",
            "172.233.120.218 power OFF \n",
            "172.233.120.222 power OFF \n",
            "172.233.120.227 power OFF \n",
            "172.233.120.232 power OFF \n",
            "172.233.120.24 power OFF \n",
            "172.233.120.157 power OFF \n"
          ]
        }
      ]
    },
    {
      "cell_type": "code",
      "source": [
        "def powerON():\n",
        "  for nod in listnodes:\n",
        "    node.start_node(nod)\n",
        "    print(nod.public_ips[0],\"power ON \")\n",
        "powerON()"
      ],
      "metadata": {
        "id": "BfSp8AHhlzLz",
        "colab": {
          "base_uri": "https://localhost:8080/"
        },
        "outputId": "d7245fc2-24cd-41b4-92c8-33bddb7a41f0"
      },
      "execution_count": null,
      "outputs": [
        {
          "output_type": "stream",
          "name": "stdout",
          "text": [
            "172.233.120.150 power ON \n",
            "172.233.120.160 power ON \n",
            "172.233.120.208 power ON \n",
            "172.233.120.216 power ON \n",
            "172.233.120.218 power ON \n",
            "172.233.120.222 power ON \n",
            "172.233.120.227 power ON \n",
            "172.233.120.232 power ON \n",
            "172.233.120.24 power ON \n",
            "172.233.120.157 power ON \n"
          ]
        }
      ]
    }
  ],
  "metadata": {
    "colab": {
      "provenance": [],
      "include_colab_link": true
    },
    "kernelspec": {
      "display_name": "Python 3",
      "name": "python3"
    },
    "language_info": {
      "name": "python"
    }
  },
  "nbformat": 4,
  "nbformat_minor": 0
}